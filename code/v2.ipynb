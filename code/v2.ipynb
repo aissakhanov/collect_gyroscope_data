{
 "cells": [
  {
   "cell_type": "code",
   "execution_count": 1,
   "metadata": {},
   "outputs": [],
   "source": [
    "import time\n",
    "import cv2\n",
    "import numpy as np\n",
    "import pandas as pd\n",
    "import matplotlib.pyplot as plt"
   ]
  },
  {
   "cell_type": "code",
   "execution_count": 2,
   "metadata": {},
   "outputs": [],
   "source": [
    "df = pd.DataFrame(columns = ['label', 'time', 'x', 'y', 'rad_pos'])\n",
    "vs = cv2.VideoCapture(\"../test_videos/test_4.mp4\")\n",
    "kernel = np.ones((5,5),np.uint8)\n",
    "first_frame = True\n",
    "eps = 10\n",
    "\n",
    "frame_width = int(vs.get(3))\n",
    "frame_height = int(vs.get(4))\n",
    "size = (frame_width, frame_height)\n",
    "\n",
    "fourcc = cv2.VideoWriter_fourcc(*'XVID')\n",
    "fps = vs.get(cv2.CAP_PROP_FPS)\n",
    "result = cv2.VideoWriter('labeled.mp4', \n",
    "                         fourcc,\n",
    "                         fps, size)\n",
    "while True:\n",
    "\t# grab the current frame, then handle if we are using a\n",
    "\t# VideoStream or VideoCapture object\n",
    "\tframe = vs.read()[1]\n",
    "\tif frame is None:\n",
    "\t\tbreak\n",
    "\n",
    "\t# frame dimensions\n",
    "\t(H, W) = frame.shape[:2]\n",
    "\n",
    "\tbgr = frame\n",
    "\thsv = cv2.cvtColor(bgr, cv2.COLOR_BGR2HSV)\n",
    "\tl_range = np.array([40, 40, 40])\n",
    "\tu_range = np.array([70, 255, 255])\n",
    "\tmask = cv2.inRange(hsv, l_range, u_range)\n",
    "\tmask = cv2.morphologyEx(mask, cv2.MORPH_CLOSE, kernel)\n",
    "\tcontours, _ = cv2.findContours(mask, cv2.RETR_EXTERNAL, cv2.CHAIN_APPROX_SIMPLE)\n",
    "\tlabel = 0\n",
    "\tfor cnt in contours:\n",
    "\t\tcheck = 0\n",
    "\t\tx,y,w,h = cv2.boundingRect(cnt)\n",
    "\t\tif w*h > 400 and y >= H/4:\n",
    "\t\t\tcv2.rectangle(bgr,(x,y),(x+w,y+h),(0,255,0),2)\n",
    "\t\t\tcheck += 1\n",
    "\t\t\tcurr_time = vs.get(cv2.CAP_PROP_POS_MSEC)\n",
    "\t\t\tif first_frame:\n",
    "\t\t\t\tlabel = 0\n",
    "\t\t\t\tx1 = x/2+w/2\n",
    "\t\t\t\ty1 = y/2+h/2\n",
    "\t\t\t\tdf.loc[df.shape[0]] = [label, curr_time/1000, x/2+w/2, y/2+h/2, (x/2+w/2)**2 + (y/2+h/2)**2]\n",
    "\t\t\t\tlabel += 1\n",
    "\t\t\telse:\n",
    "\t\t\t\tif x1 - (x/2+w/2) < eps and y1 - (y/2+h/2) < eps:\n",
    "\t\t\t\t\tlabel = 0\n",
    "\t\t\t\telse:\n",
    "\t\t\t\t\tlabel = 1\n",
    "\t\t\t\tdf.loc[df.shape[0]] = [label, curr_time/1000, x/2+w/2, y/2+h/2, (x/2+w/2)**2 + (y/2+h/2)**2] \n",
    "\t\t\t\t\n",
    "\tfirst_frame = False\n",
    "\t# cv2.drawContours(bgr, contours, -1, (255,0,0), 3)\n",
    "\tcv2.imshow('Frame_with_contours', bgr)\n",
    "\tresult.write(bgr)\n",
    "\tif check > 2:\n",
    "\t\tprint(curr_time)\n",
    "\t# cv2.imshow('Mask', mask)\n",
    "\tkey = cv2.waitKey(1) & 0xFF\n",
    "\n",
    "\tif key == ord(\"q\"):\n",
    "\t\tbreak\n",
    "vs.release()\n",
    "result.release()\n",
    "# close all windows\n",
    "cv2.destroyAllWindows()"
   ]
  },
  {
   "cell_type": "code",
   "execution_count": 101,
   "metadata": {},
   "outputs": [
    {
     "data": {
      "text/html": [
       "<div>\n",
       "<style scoped>\n",
       "    .dataframe tbody tr th:only-of-type {\n",
       "        vertical-align: middle;\n",
       "    }\n",
       "\n",
       "    .dataframe tbody tr th {\n",
       "        vertical-align: top;\n",
       "    }\n",
       "\n",
       "    .dataframe thead th {\n",
       "        text-align: right;\n",
       "    }\n",
       "</style>\n",
       "<table border=\"1\" class=\"dataframe\">\n",
       "  <thead>\n",
       "    <tr style=\"text-align: right;\">\n",
       "      <th></th>\n",
       "      <th>label</th>\n",
       "      <th>time</th>\n",
       "      <th>x</th>\n",
       "      <th>y</th>\n",
       "      <th>rad_pos</th>\n",
       "    </tr>\n",
       "  </thead>\n",
       "  <tbody>\n",
       "    <tr>\n",
       "      <th>500</th>\n",
       "      <td>0.0</td>\n",
       "      <td>12.078733</td>\n",
       "      <td>199.5</td>\n",
       "      <td>216.0</td>\n",
       "      <td>86456.25</td>\n",
       "    </tr>\n",
       "    <tr>\n",
       "      <th>501</th>\n",
       "      <td>1.0</td>\n",
       "      <td>12.112100</td>\n",
       "      <td>76.0</td>\n",
       "      <td>303.0</td>\n",
       "      <td>97585.00</td>\n",
       "    </tr>\n",
       "    <tr>\n",
       "      <th>502</th>\n",
       "      <td>1.0</td>\n",
       "      <td>12.145467</td>\n",
       "      <td>75.0</td>\n",
       "      <td>307.0</td>\n",
       "      <td>99874.00</td>\n",
       "    </tr>\n",
       "    <tr>\n",
       "      <th>503</th>\n",
       "      <td>1.0</td>\n",
       "      <td>12.178833</td>\n",
       "      <td>73.0</td>\n",
       "      <td>310.0</td>\n",
       "      <td>101429.00</td>\n",
       "    </tr>\n",
       "    <tr>\n",
       "      <th>504</th>\n",
       "      <td>0.0</td>\n",
       "      <td>12.178833</td>\n",
       "      <td>178.0</td>\n",
       "      <td>210.0</td>\n",
       "      <td>75784.00</td>\n",
       "    </tr>\n",
       "    <tr>\n",
       "      <th>505</th>\n",
       "      <td>0.0</td>\n",
       "      <td>12.212200</td>\n",
       "      <td>171.0</td>\n",
       "      <td>210.0</td>\n",
       "      <td>73341.00</td>\n",
       "    </tr>\n",
       "    <tr>\n",
       "      <th>506</th>\n",
       "      <td>1.0</td>\n",
       "      <td>12.245567</td>\n",
       "      <td>71.0</td>\n",
       "      <td>324.0</td>\n",
       "      <td>110017.00</td>\n",
       "    </tr>\n",
       "    <tr>\n",
       "      <th>507</th>\n",
       "      <td>0.0</td>\n",
       "      <td>12.245567</td>\n",
       "      <td>164.5</td>\n",
       "      <td>211.0</td>\n",
       "      <td>71581.25</td>\n",
       "    </tr>\n",
       "    <tr>\n",
       "      <th>508</th>\n",
       "      <td>1.0</td>\n",
       "      <td>12.278933</td>\n",
       "      <td>70.5</td>\n",
       "      <td>331.0</td>\n",
       "      <td>114531.25</td>\n",
       "    </tr>\n",
       "    <tr>\n",
       "      <th>509</th>\n",
       "      <td>1.0</td>\n",
       "      <td>12.312300</td>\n",
       "      <td>71.5</td>\n",
       "      <td>339.0</td>\n",
       "      <td>120033.25</td>\n",
       "    </tr>\n",
       "  </tbody>\n",
       "</table>\n",
       "</div>"
      ],
      "text/plain": [
       "     label       time      x      y    rad_pos\n",
       "500    0.0  12.078733  199.5  216.0   86456.25\n",
       "501    1.0  12.112100   76.0  303.0   97585.00\n",
       "502    1.0  12.145467   75.0  307.0   99874.00\n",
       "503    1.0  12.178833   73.0  310.0  101429.00\n",
       "504    0.0  12.178833  178.0  210.0   75784.00\n",
       "505    0.0  12.212200  171.0  210.0   73341.00\n",
       "506    1.0  12.245567   71.0  324.0  110017.00\n",
       "507    0.0  12.245567  164.5  211.0   71581.25\n",
       "508    1.0  12.278933   70.5  331.0  114531.25\n",
       "509    1.0  12.312300   71.5  339.0  120033.25"
      ]
     },
     "execution_count": 101,
     "metadata": {},
     "output_type": "execute_result"
    }
   ],
   "source": [
    "df.loc[500:600].head(10)"
   ]
  },
  {
   "cell_type": "code",
   "execution_count": 102,
   "metadata": {},
   "outputs": [],
   "source": [
    "df0 = df[df.label == 0]\n",
    "df1 = df[df.label == 1]"
   ]
  },
  {
   "cell_type": "code",
   "execution_count": 105,
   "metadata": {},
   "outputs": [
    {
     "data": {
      "text/plain": [
       "<AxesSubplot: xlabel='time'>"
      ]
     },
     "execution_count": 105,
     "metadata": {},
     "output_type": "execute_result"
    },
    {
     "data": {
      "image/png": "[encoded data removed]",
      "text/plain": [
       "<Figure size 640x480 with 1 Axes>"
      ]
     },
     "metadata": {},
     "output_type": "display_data"
    }
   ],
   "source": [
    "df1.plot('time', 'y')"
   ]
  }
 ],
 "metadata": {
  "kernelspec": {
   "display_name": "Python 3.10.8 ('musa_research')",
   "language": "python",
   "name": "python3"
  },
  "language_info": {
   "codemirror_mode": {
    "name": "ipython",
    "version": 3
   },
   "file_extension": ".py",
   "mimetype": "text/x-python",
   "name": "python",
   "nbconvert_exporter": "python",
   "pygments_lexer": "ipython3",
   "version": "3.10.8"
  },
  "orig_nbformat": 4,
  "vscode": {
   "interpreter": {
    "hash": "3a279928d780aab837ac5d19f9bba0fe4deeeffbe3465d728df509f97f369c0b"
   }
  }
 },
 "nbformat": 4,
 "nbformat_minor": 2
}
